{
 "cells": [
  {
   "cell_type": "markdown",
   "metadata": {},
   "source": [
    "# Projeto 2 - Ciência dos Dados"
   ]
  },
  {
   "cell_type": "markdown",
   "metadata": {},
   "source": [
    "Nome: Luis Filipe Carrete\n",
    "\n",
    "Nome: Manuel Castanares"
   ]
  },
  {
   "cell_type": "markdown",
   "metadata": {},
   "source": [
    "Serão permitidos grupos de três pessoas, mas com uma rubrica mais exigente. Grupos deste tamanho precisarão fazer um questionário de avaliação de trabalho em equipe"
   ]
  },
  {
   "cell_type": "markdown",
   "metadata": {},
   "source": [
    "___\n",
    "# Classificador automático de sentimento\n"
   ]
  },
  {
   "cell_type": "markdown",
   "metadata": {},
   "source": [
    "## Preparando o ambiente no jupyter:"
   ]
  },
  {
   "cell_type": "code",
   "execution_count": 2,
   "metadata": {},
   "outputs": [],
   "source": [
    "%%capture\n",
    "\n",
    "#Instalando o tweepy\n",
    "!pip install tweepy"
   ]
  },
  {
   "cell_type": "code",
   "execution_count": 3,
   "metadata": {
    "jupyter": {
     "outputs_hidden": true
    }
   },
   "outputs": [],
   "source": [
    "import tweepy\n",
    "import math\n",
    "import os.path\n",
    "import pandas as pd\n",
    "import json\n",
    "from random import shuffle\n",
    "import matplotlib.pyplot as plt"
   ]
  },
  {
   "cell_type": "markdown",
   "metadata": {},
   "source": [
    "___\n",
    "## Autenticando no  Twitter\n",
    "\n",
    "* Conta: ***[Preencha aqui o id da sua conta. Ex: @fulano ]***"
   ]
  },
  {
   "cell_type": "code",
   "execution_count": null,
   "metadata": {
    "jupyter": {
     "outputs_hidden": true
    }
   },
   "outputs": [],
   "source": []
  },
  {
   "cell_type": "markdown",
   "metadata": {},
   "source": [
    "___\n",
    "## Etapas do projeto:"
   ]
  },
  {
   "cell_type": "markdown",
   "metadata": {},
   "source": [
    "### Escolha de um produto e coleta das mensagens\n"
   ]
  },
  {
   "cell_type": "code",
   "execution_count": null,
   "metadata": {
    "jupyter": {
     "outputs_hidden": true
    }
   },
   "outputs": [],
   "source": []
  },
  {
   "cell_type": "markdown",
   "metadata": {},
   "source": [
    "Capturando os dados do twitter:"
   ]
  },
  {
   "cell_type": "code",
   "execution_count": null,
   "metadata": {
    "jupyter": {
     "outputs_hidden": true
    }
   },
   "outputs": [],
   "source": []
  },
  {
   "cell_type": "markdown",
   "metadata": {},
   "source": [
    "Salvando os dados em uma planilha Excel:"
   ]
  },
  {
   "cell_type": "code",
   "execution_count": null,
   "metadata": {
    "jupyter": {
     "outputs_hidden": true
    }
   },
   "outputs": [],
   "source": []
  },
  {
   "cell_type": "markdown",
   "metadata": {},
   "source": [
    "___\n",
    "### Classificando as mensagens na coragem\n",
    "\n",
    "Esta etapa é manual. Faça a mesma pelo Excel."
   ]
  },
  {
   "cell_type": "code",
   "execution_count": 4,
   "metadata": {},
   "outputs": [],
   "source": [
    "dados_raw = pd.read_excel('windows 10.xlsx')"
   ]
  },
  {
   "cell_type": "code",
   "execution_count": 5,
   "metadata": {},
   "outputs": [
    {
     "data": {
      "text/html": [
       "<div>\n",
       "<style scoped>\n",
       "    .dataframe tbody tr th:only-of-type {\n",
       "        vertical-align: middle;\n",
       "    }\n",
       "\n",
       "    .dataframe tbody tr th {\n",
       "        vertical-align: top;\n",
       "    }\n",
       "\n",
       "    .dataframe thead th {\n",
       "        text-align: right;\n",
       "    }\n",
       "</style>\n",
       "<table border=\"1\" class=\"dataframe\">\n",
       "  <thead>\n",
       "    <tr style=\"text-align: right;\">\n",
       "      <th></th>\n",
       "      <th>Treinamento</th>\n",
       "      <th>Relevancia</th>\n",
       "    </tr>\n",
       "  </thead>\n",
       "  <tbody>\n",
       "    <tr>\n",
       "      <th>0</th>\n",
       "      <td>rt @jgaitpro: incluir políticas de grupo para ...</td>\n",
       "      <td>0</td>\n",
       "    </tr>\n",
       "    <tr>\n",
       "      <th>1</th>\n",
       "      <td>hora de melhorar o windows 10! chegaram os pow...</td>\n",
       "      <td>1</td>\n",
       "    </tr>\n",
       "    <tr>\n",
       "      <th>2</th>\n",
       "      <td>atualização do #windows 10 está fazendo a cpu ...</td>\n",
       "      <td>1</td>\n",
       "    </tr>\n",
       "    <tr>\n",
       "      <th>3</th>\n",
       "      <td>windows 10: nova atualização da versão 1903 po...</td>\n",
       "      <td>1</td>\n",
       "    </tr>\n",
       "    <tr>\n",
       "      <th>4</th>\n",
       "      <td>atualização do windows 10 estaria sobrecarrega...</td>\n",
       "      <td>1</td>\n",
       "    </tr>\n",
       "  </tbody>\n",
       "</table>\n",
       "</div>"
      ],
      "text/plain": [
       "                                         Treinamento  Relevancia\n",
       "0  rt @jgaitpro: incluir políticas de grupo para ...           0\n",
       "1  hora de melhorar o windows 10! chegaram os pow...           1\n",
       "2  atualização do #windows 10 está fazendo a cpu ...           1\n",
       "3  windows 10: nova atualização da versão 1903 po...           1\n",
       "4  atualização do windows 10 estaria sobrecarrega...           1"
      ]
     },
     "execution_count": 5,
     "metadata": {},
     "output_type": "execute_result"
    }
   ],
   "source": [
    "dados_raw.head()"
   ]
  },
  {
   "cell_type": "code",
   "execution_count": 6,
   "metadata": {},
   "outputs": [],
   "source": [
    "dados_rel = dados_raw.loc[(dados_raw.Relevancia == 1)]\n",
    "\n",
    "dados_irre = dados_raw.loc[(dados_raw.Relevancia == 0)]"
   ]
  },
  {
   "cell_type": "code",
   "execution_count": 7,
   "metadata": {},
   "outputs": [
    {
     "data": {
      "text/plain": [
       "1    0.622074\n",
       "0    0.377926\n",
       "Name: Relevancia, dtype: float64"
      ]
     },
     "execution_count": 7,
     "metadata": {},
     "output_type": "execute_result"
    }
   ],
   "source": [
    "relevancia_freq = dados_raw.Relevancia.value_counts(True)\n",
    "relevancia_freq"
   ]
  },
  {
   "cell_type": "code",
   "execution_count": 8,
   "metadata": {},
   "outputs": [],
   "source": [
    "import re\n",
    "\n",
    "def cleanup(text):\n",
    "    \"\"\"\n",
    "        Função de limpeza muito simples que troca alguns sinais básicos por espaços\n",
    "    \"\"\"\n",
    "    import string\n",
    "    punctuation = '[!-.:?;]' # Note que os sinais [] são delimitadores de um conjunto.\n",
    "    pattern = re.compile(punctuation)\n",
    "    text_subbed = re.sub(pattern, ' ', text)\n",
    "    return text_subbed"
   ]
  },
  {
   "cell_type": "code",
   "execution_count": 9,
   "metadata": {},
   "outputs": [],
   "source": [
    "lista_relevante = []\n",
    "for i in dados_rel.Treinamento:\n",
    "    a = i.split()\n",
    "    for b in a:\n",
    "        if b != 'rt' and b[0:5] != \"https\" and b[0:1] != \"@\":\n",
    "            c = cleanup(b)\n",
    "            lista_relevante.append(c)\n",
    "    \n",
    "relevante = pd.Series(lista_relevante)\n",
    "\n",
    "palavras_rel = relevante.value_counts()"
   ]
  },
  {
   "cell_type": "code",
   "execution_count": 10,
   "metadata": {},
   "outputs": [],
   "source": [
    "lista_irrelevante = []\n",
    "for i in dados_irre.Treinamento:\n",
    "    a = i.split()\n",
    "    for b in a:\n",
    "        if b != 'rt' and b[0:5] != \"https\" and b[0:1] != \"@\":\n",
    "            c = cleanup(b)\n",
    "            lista_irrelevante.append(c)\n",
    "\n",
    "irrelevante = pd.Series(lista_irrelevante)\n",
    "\n",
    "palavras_irre = irrelevante.value_counts()\n"
   ]
  },
  {
   "cell_type": "code",
   "execution_count": 11,
   "metadata": {},
   "outputs": [],
   "source": [
    "todas_palavras = []\n",
    "for i in dados_raw.Treinamento:\n",
    "    \n",
    "    a = i.split()\n",
    "    \n",
    "    for b in a:\n",
    "        if b != 'rt' and b[0:5] != \"https\" and b[0:1] != \"@\":\n",
    "            c = cleanup(b)\n",
    "            todas_palavras.append(c)\n",
    "\n",
    "palavras_frequencia = pd.Series(todas_palavras)\n",
    "\n",
    "palavras = palavras_frequencia.value_counts()\n"
   ]
  },
  {
   "cell_type": "markdown",
   "metadata": {},
   "source": [
    "___\n",
    "### Montando o Classificador Naive-Bayes\n",
    "\n",
    "Considerando apenas as mensagens da planilha Treinamento, ensine  seu classificador."
   ]
  },
  {
   "cell_type": "code",
   "execution_count": 12,
   "metadata": {},
   "outputs": [],
   "source": [
    "tweet_teste = \"tô sem pc, posso nem ver minhas seriezinhas ☹️ meu amigo pegou pra atualizar o windows pro 10, agora sabe lá quando vai fazer e me entregar kkkkkkk\""
   ]
  },
  {
   "cell_type": "code",
   "execution_count": 13,
   "metadata": {
    "scrolled": true
   },
   "outputs": [],
   "source": [
    "def classificador(tweet):\n",
    "    i = tweet.split()\n",
    "    p_rel = 1\n",
    "    p_irre = 1\n",
    "    for a in i:\n",
    "        if a != 'rt' and a[0:5] != \"https\" and a[0:1] != \"@\":\n",
    "            c = cleanup(a)\n",
    "\n",
    "            if c in palavras_rel: \n",
    "                p = palavras_rel[c]\n",
    "            else:\n",
    "                p = 0\n",
    "            p_rel *= (p+1)/(1173+1750) #Smo0thing Laplace \n",
    "\n",
    "            if c in palavras_irre:\n",
    "                pp = palavras_irre[c]\n",
    "            else:\n",
    "                pp = 0\n",
    "            p_irre *= (pp+1)/(862+1750)\n",
    "    p_rel *= 0.622074 #Probabilidade de ser relevante\n",
    "    p_irre *= 0.377926 #Probabilidade de ser Irrelevante\n",
    "    if p_rel > p_irre:\n",
    "        return(int(1))\n",
    "    else:\n",
    "        return(int(0))\n",
    "    \n"
   ]
  },
  {
   "cell_type": "code",
   "execution_count": 14,
   "metadata": {},
   "outputs": [
    {
     "name": "stdout",
     "output_type": "stream",
     "text": [
      "1\n"
     ]
    }
   ],
   "source": [
    "print(classificador(tweet_teste))"
   ]
  },
  {
   "cell_type": "markdown",
   "metadata": {},
   "source": [
    "___\n",
    "### Verificando a performance\n",
    "\n",
    "Agora você deve testar o seu classificador com a base de Testes."
   ]
  },
  {
   "cell_type": "code",
   "execution_count": 15,
   "metadata": {},
   "outputs": [
    {
     "name": "stderr",
     "output_type": "stream",
     "text": [
      "C:\\Users\\lfcsa\\Anaconda3\\lib\\site-packages\\pandas\\io\\excel.py:329: FutureWarning: The `sheetname` keyword is deprecated, use `sheet_name` instead\n",
      "  **kwds)\n"
     ]
    }
   ],
   "source": [
    "dados_teste = pd.read_excel('windows 10.xlsx', sheetname=\"Teste\")\n",
    "\n",
    "for tweet in dados_teste.Teste:\n",
    "    dados_teste.loc[(dados_teste.Teste == tweet),\"Classificador\"] = [classificador(tweet)]\n",
    "    "
   ]
  },
  {
   "cell_type": "code",
   "execution_count": 16,
   "metadata": {},
   "outputs": [
    {
     "data": {
      "text/html": [
       "<div>\n",
       "<style scoped>\n",
       "    .dataframe tbody tr th:only-of-type {\n",
       "        vertical-align: middle;\n",
       "    }\n",
       "\n",
       "    .dataframe tbody tr th {\n",
       "        vertical-align: top;\n",
       "    }\n",
       "\n",
       "    .dataframe thead th {\n",
       "        text-align: right;\n",
       "    }\n",
       "</style>\n",
       "<table border=\"1\" class=\"dataframe\">\n",
       "  <thead>\n",
       "    <tr style=\"text-align: right;\">\n",
       "      <th></th>\n",
       "      <th>Teste</th>\n",
       "      <th>Relevancia</th>\n",
       "      <th>Classificador</th>\n",
       "    </tr>\n",
       "  </thead>\n",
       "  <tbody>\n",
       "    <tr>\n",
       "      <th>0</th>\n",
       "      <td>como usar os powertoys do windows 10 https://t...</td>\n",
       "      <td>0</td>\n",
       "      <td>1.0</td>\n",
       "    </tr>\n",
       "    <tr>\n",
       "      <th>1</th>\n",
       "      <td>tô sem pc, posso nem ver minhas seriezinhas ☹️...</td>\n",
       "      <td>1</td>\n",
       "      <td>1.0</td>\n",
       "    </tr>\n",
       "    <tr>\n",
       "      <th>2</th>\n",
       "      <td>rip memoria ram morre após menina criar vm no ...</td>\n",
       "      <td>1</td>\n",
       "      <td>0.0</td>\n",
       "    </tr>\n",
       "    <tr>\n",
       "      <th>3</th>\n",
       "      <td>@renao @lothermus é merda até hoje, acho que n...</td>\n",
       "      <td>1</td>\n",
       "      <td>1.0</td>\n",
       "    </tr>\n",
       "    <tr>\n",
       "      <th>4</th>\n",
       "      <td>rt @rafaelgrn: dead cells saiu com uma nova li...</td>\n",
       "      <td>0</td>\n",
       "      <td>1.0</td>\n",
       "    </tr>\n",
       "    <tr>\n",
       "      <th>5</th>\n",
       "      <td>windows 10 nem faz barulho pra ligar porra htt...</td>\n",
       "      <td>1</td>\n",
       "      <td>1.0</td>\n",
       "    </tr>\n",
       "    <tr>\n",
       "      <th>6</th>\n",
       "      <td>downtime acontece exatamente durante o fim de ...</td>\n",
       "      <td>0</td>\n",
       "      <td>0.0</td>\n",
       "    </tr>\n",
       "    <tr>\n",
       "      <th>7</th>\n",
       "      <td>na moral windows 10 foi a pior invenção</td>\n",
       "      <td>1</td>\n",
       "      <td>1.0</td>\n",
       "    </tr>\n",
       "    <tr>\n",
       "      <th>8</th>\n",
       "      <td>📣‍super oferta  #amazon | #informática\\nmedion...</td>\n",
       "      <td>0</td>\n",
       "      <td>0.0</td>\n",
       "    </tr>\n",
       "    <tr>\n",
       "      <th>9</th>\n",
       "      <td>@windowsbr eu quero que, pelo amor de deus, pa...</td>\n",
       "      <td>1</td>\n",
       "      <td>1.0</td>\n",
       "    </tr>\n",
       "    <tr>\n",
       "      <th>10</th>\n",
       "      <td>@luizgpassos até comecinho de 2018 o windows 7...</td>\n",
       "      <td>1</td>\n",
       "      <td>1.0</td>\n",
       "    </tr>\n",
       "    <tr>\n",
       "      <th>11</th>\n",
       "      <td>⚠️medion e4251 - ordenador portátil de 14\" fhd...</td>\n",
       "      <td>0</td>\n",
       "      <td>0.0</td>\n",
       "    </tr>\n",
       "    <tr>\n",
       "      <th>12</th>\n",
       "      <td>0 software do pc permite configurar os ajustes...</td>\n",
       "      <td>0</td>\n",
       "      <td>1.0</td>\n",
       "    </tr>\n",
       "    <tr>\n",
       "      <th>13</th>\n",
       "      <td>rt @jgaitpro: incluir políticas de grupo para ...</td>\n",
       "      <td>0</td>\n",
       "      <td>0.0</td>\n",
       "    </tr>\n",
       "    <tr>\n",
       "      <th>14</th>\n",
       "      <td>crystal reports parou de funcionar depois de a...</td>\n",
       "      <td>1</td>\n",
       "      <td>1.0</td>\n",
       "    </tr>\n",
       "    <tr>\n",
       "      <th>15</th>\n",
       "      <td>rt @rafaelgrn: dead cells saiu com uma nova li...</td>\n",
       "      <td>0</td>\n",
       "      <td>1.0</td>\n",
       "    </tr>\n",
       "    <tr>\n",
       "      <th>16</th>\n",
       "      <td>@windowsbr mudaram a porra das propriedades de...</td>\n",
       "      <td>1</td>\n",
       "      <td>1.0</td>\n",
       "    </tr>\n",
       "    <tr>\n",
       "      <th>17</th>\n",
       "      <td>meu deus windows 10 oq eu fiz pra voce serio n...</td>\n",
       "      <td>1</td>\n",
       "      <td>1.0</td>\n",
       "    </tr>\n",
       "    <tr>\n",
       "      <th>18</th>\n",
       "      <td>alguém sabe trocar o windows 10 para windows 7...</td>\n",
       "      <td>1</td>\n",
       "      <td>1.0</td>\n",
       "    </tr>\n",
       "    <tr>\n",
       "      <th>19</th>\n",
       "      <td>@tsarinabranca se o seu windows for o 10 e tiv...</td>\n",
       "      <td>0</td>\n",
       "      <td>1.0</td>\n",
       "    </tr>\n",
       "    <tr>\n",
       "      <th>20</th>\n",
       "      <td>como usar os powertoys do windows 10 https://t...</td>\n",
       "      <td>0</td>\n",
       "      <td>1.0</td>\n",
       "    </tr>\n",
       "    <tr>\n",
       "      <th>21</th>\n",
       "      <td>@microsoftajuda não funcionaram\\neu não conseg...</td>\n",
       "      <td>0</td>\n",
       "      <td>1.0</td>\n",
       "    </tr>\n",
       "    <tr>\n",
       "      <th>22</th>\n",
       "      <td>windows 10 vai tomar no seu cuuuuuuuuuuuuuuuuu...</td>\n",
       "      <td>1</td>\n",
       "      <td>1.0</td>\n",
       "    </tr>\n",
       "    <tr>\n",
       "      <th>23</th>\n",
       "      <td>rt @olhardigital: veja como resolver este prob...</td>\n",
       "      <td>1</td>\n",
       "      <td>1.0</td>\n",
       "    </tr>\n",
       "    <tr>\n",
       "      <th>24</th>\n",
       "      <td>rt @tecnoblog: microsoft sugere abas e cantos ...</td>\n",
       "      <td>0</td>\n",
       "      <td>0.0</td>\n",
       "    </tr>\n",
       "    <tr>\n",
       "      <th>25</th>\n",
       "      <td>coisa boa! que venham muitos outrs. hora de me...</td>\n",
       "      <td>1</td>\n",
       "      <td>1.0</td>\n",
       "    </tr>\n",
       "    <tr>\n",
       "      <th>26</th>\n",
       "      <td>microsoft windows 10 pro original vitalício – ...</td>\n",
       "      <td>0</td>\n",
       "      <td>1.0</td>\n",
       "    </tr>\n",
       "    <tr>\n",
       "      <th>27</th>\n",
       "      <td>guias it-online: como verificar o estado da ba...</td>\n",
       "      <td>0</td>\n",
       "      <td>1.0</td>\n",
       "    </tr>\n",
       "    <tr>\n",
       "      <th>28</th>\n",
       "      <td>está rodando o windows num idioma errado? calm...</td>\n",
       "      <td>0</td>\n",
       "      <td>1.0</td>\n",
       "    </tr>\n",
       "    <tr>\n",
       "      <th>29</th>\n",
       "      <td>anti hacker de vocês essa igual o windows defe...</td>\n",
       "      <td>0</td>\n",
       "      <td>1.0</td>\n",
       "    </tr>\n",
       "    <tr>\n",
       "      <th>...</th>\n",
       "      <td>...</td>\n",
       "      <td>...</td>\n",
       "      <td>...</td>\n",
       "    </tr>\n",
       "    <tr>\n",
       "      <th>170</th>\n",
       "      <td>microsoft disponibiliza preview do conjunto de...</td>\n",
       "      <td>0</td>\n",
       "      <td>0.0</td>\n",
       "    </tr>\n",
       "    <tr>\n",
       "      <th>171</th>\n",
       "      <td>@ysenoue amiga, sabe aquela iso limpa do windo...</td>\n",
       "      <td>0</td>\n",
       "      <td>1.0</td>\n",
       "    </tr>\n",
       "    <tr>\n",
       "      <th>172</th>\n",
       "      <td>lumia 950 recebe windows 10 para arm com vária...</td>\n",
       "      <td>1</td>\n",
       "      <td>1.0</td>\n",
       "    </tr>\n",
       "    <tr>\n",
       "      <th>173</th>\n",
       "      <td>rt @adrenaline: downtime acontece exatamente d...</td>\n",
       "      <td>0</td>\n",
       "      <td>0.0</td>\n",
       "    </tr>\n",
       "    <tr>\n",
       "      <th>174</th>\n",
       "      <td>anunciado o windows 10 20h1 insider preview bu...</td>\n",
       "      <td>0</td>\n",
       "      <td>1.0</td>\n",
       "    </tr>\n",
       "    <tr>\n",
       "      <th>175</th>\n",
       "      <td>@subcores @castrojr76 @ammorais @xbox obrigado...</td>\n",
       "      <td>0</td>\n",
       "      <td>1.0</td>\n",
       "    </tr>\n",
       "    <tr>\n",
       "      <th>176</th>\n",
       "      <td>ahhhhhhh deveria ter esperado pra comprar esse...</td>\n",
       "      <td>0</td>\n",
       "      <td>1.0</td>\n",
       "    </tr>\n",
       "    <tr>\n",
       "      <th>177</th>\n",
       "      <td>hora de melhorar o windows 10! chegaram os nov...</td>\n",
       "      <td>0</td>\n",
       "      <td>1.0</td>\n",
       "    </tr>\n",
       "    <tr>\n",
       "      <th>178</th>\n",
       "      <td>vaio® fit 15s 8ª geração core ! ´ i5 windows 1...</td>\n",
       "      <td>0</td>\n",
       "      <td>0.0</td>\n",
       "    </tr>\n",
       "    <tr>\n",
       "      <th>179</th>\n",
       "      <td>@lierson baixa o o&amp;amp;o shutup10, vai em \"too...</td>\n",
       "      <td>0</td>\n",
       "      <td>1.0</td>\n",
       "    </tr>\n",
       "    <tr>\n",
       "      <th>180</th>\n",
       "      <td>@joaopsantos16 eu já considerei o windows 10 u...</td>\n",
       "      <td>1</td>\n",
       "      <td>1.0</td>\n",
       "    </tr>\n",
       "    <tr>\n",
       "      <th>181</th>\n",
       "      <td>atualizei meu windows 10 e meu notebook ficou ...</td>\n",
       "      <td>1</td>\n",
       "      <td>1.0</td>\n",
       "    </tr>\n",
       "    <tr>\n",
       "      <th>182</th>\n",
       "      <td>tava precisando de um pendrive bootavel do win...</td>\n",
       "      <td>0</td>\n",
       "      <td>1.0</td>\n",
       "    </tr>\n",
       "    <tr>\n",
       "      <th>183</th>\n",
       "      <td>utilidade pública: pra quem utiliza windows 10...</td>\n",
       "      <td>1</td>\n",
       "      <td>1.0</td>\n",
       "    </tr>\n",
       "    <tr>\n",
       "      <th>184</th>\n",
       "      <td>rt @tchelomaia: atualização do windows 10 está...</td>\n",
       "      <td>1</td>\n",
       "      <td>1.0</td>\n",
       "    </tr>\n",
       "    <tr>\n",
       "      <th>185</th>\n",
       "      <td>@nwtsz pior que esse notebook é bom e tem uma ...</td>\n",
       "      <td>1</td>\n",
       "      <td>1.0</td>\n",
       "    </tr>\n",
       "    <tr>\n",
       "      <th>186</th>\n",
       "      <td>recurso tão esperado começa a ser testado em v...</td>\n",
       "      <td>0</td>\n",
       "      <td>1.0</td>\n",
       "    </tr>\n",
       "    <tr>\n",
       "      <th>187</th>\n",
       "      <td>@obrunnn versão de celular e windows 10 :p</td>\n",
       "      <td>0</td>\n",
       "      <td>1.0</td>\n",
       "    </tr>\n",
       "    <tr>\n",
       "      <th>188</th>\n",
       "      <td>última atualização do windows 10 ferrou meu of...</td>\n",
       "      <td>1</td>\n",
       "      <td>1.0</td>\n",
       "    </tr>\n",
       "    <tr>\n",
       "      <th>189</th>\n",
       "      <td>rt @adrenaline: atualização do windows 10 esta...</td>\n",
       "      <td>1</td>\n",
       "      <td>1.0</td>\n",
       "    </tr>\n",
       "    <tr>\n",
       "      <th>190</th>\n",
       "      <td>@lwithp esse aqui deve ter atender exatamente ...</td>\n",
       "      <td>0</td>\n",
       "      <td>0.0</td>\n",
       "    </tr>\n",
       "    <tr>\n",
       "      <th>191</th>\n",
       "      <td>pipipo popopo windows 10 é ruim, prefiro o 7\\n...</td>\n",
       "      <td>0</td>\n",
       "      <td>1.0</td>\n",
       "    </tr>\n",
       "    <tr>\n",
       "      <th>192</th>\n",
       "      <td>maluco, estava um tempo sem mexer no notebook ...</td>\n",
       "      <td>1</td>\n",
       "      <td>1.0</td>\n",
       "    </tr>\n",
       "    <tr>\n",
       "      <th>193</th>\n",
       "      <td>dica: ative a proteção contra ransomware no wi...</td>\n",
       "      <td>0</td>\n",
       "      <td>0.0</td>\n",
       "    </tr>\n",
       "    <tr>\n",
       "      <th>194</th>\n",
       "      <td>@bertoncini_ meo kkkk eu nem sabia que windows...</td>\n",
       "      <td>1</td>\n",
       "      <td>1.0</td>\n",
       "    </tr>\n",
       "    <tr>\n",
       "      <th>195</th>\n",
       "      <td>como usar os powertoys do windows 10\\n\\nhttps:...</td>\n",
       "      <td>0</td>\n",
       "      <td>1.0</td>\n",
       "    </tr>\n",
       "    <tr>\n",
       "      <th>196</th>\n",
       "      <td>vai ficar 10 anos atualizando o windows do meu pc</td>\n",
       "      <td>1</td>\n",
       "      <td>1.0</td>\n",
       "    </tr>\n",
       "    <tr>\n",
       "      <th>197</th>\n",
       "      <td>lumia 950 recebe windows 10 para arm com vária...</td>\n",
       "      <td>1</td>\n",
       "      <td>1.0</td>\n",
       "    </tr>\n",
       "    <tr>\n",
       "      <th>198</th>\n",
       "      <td>https://t.co/ppt1htu4h6 lumia 950 recebe windo...</td>\n",
       "      <td>0</td>\n",
       "      <td>1.0</td>\n",
       "    </tr>\n",
       "    <tr>\n",
       "      <th>199</th>\n",
       "      <td>instalando windows 10 pirata em todas as máqui...</td>\n",
       "      <td>1</td>\n",
       "      <td>1.0</td>\n",
       "    </tr>\n",
       "  </tbody>\n",
       "</table>\n",
       "<p>200 rows × 3 columns</p>\n",
       "</div>"
      ],
      "text/plain": [
       "                                                 Teste  Relevancia  \\\n",
       "0    como usar os powertoys do windows 10 https://t...           0   \n",
       "1    tô sem pc, posso nem ver minhas seriezinhas ☹️...           1   \n",
       "2    rip memoria ram morre após menina criar vm no ...           1   \n",
       "3    @renao @lothermus é merda até hoje, acho que n...           1   \n",
       "4    rt @rafaelgrn: dead cells saiu com uma nova li...           0   \n",
       "5    windows 10 nem faz barulho pra ligar porra htt...           1   \n",
       "6    downtime acontece exatamente durante o fim de ...           0   \n",
       "7              na moral windows 10 foi a pior invenção           1   \n",
       "8    📣‍super oferta  #amazon | #informática\\nmedion...           0   \n",
       "9    @windowsbr eu quero que, pelo amor de deus, pa...           1   \n",
       "10   @luizgpassos até comecinho de 2018 o windows 7...           1   \n",
       "11   ⚠️medion e4251 - ordenador portátil de 14\" fhd...           0   \n",
       "12   0 software do pc permite configurar os ajustes...           0   \n",
       "13   rt @jgaitpro: incluir políticas de grupo para ...           0   \n",
       "14   crystal reports parou de funcionar depois de a...           1   \n",
       "15   rt @rafaelgrn: dead cells saiu com uma nova li...           0   \n",
       "16   @windowsbr mudaram a porra das propriedades de...           1   \n",
       "17   meu deus windows 10 oq eu fiz pra voce serio n...           1   \n",
       "18   alguém sabe trocar o windows 10 para windows 7...           1   \n",
       "19   @tsarinabranca se o seu windows for o 10 e tiv...           0   \n",
       "20   como usar os powertoys do windows 10 https://t...           0   \n",
       "21   @microsoftajuda não funcionaram\\neu não conseg...           0   \n",
       "22   windows 10 vai tomar no seu cuuuuuuuuuuuuuuuuu...           1   \n",
       "23   rt @olhardigital: veja como resolver este prob...           1   \n",
       "24   rt @tecnoblog: microsoft sugere abas e cantos ...           0   \n",
       "25   coisa boa! que venham muitos outrs. hora de me...           1   \n",
       "26   microsoft windows 10 pro original vitalício – ...           0   \n",
       "27   guias it-online: como verificar o estado da ba...           0   \n",
       "28   está rodando o windows num idioma errado? calm...           0   \n",
       "29   anti hacker de vocês essa igual o windows defe...           0   \n",
       "..                                                 ...         ...   \n",
       "170  microsoft disponibiliza preview do conjunto de...           0   \n",
       "171  @ysenoue amiga, sabe aquela iso limpa do windo...           0   \n",
       "172  lumia 950 recebe windows 10 para arm com vária...           1   \n",
       "173  rt @adrenaline: downtime acontece exatamente d...           0   \n",
       "174  anunciado o windows 10 20h1 insider preview bu...           0   \n",
       "175  @subcores @castrojr76 @ammorais @xbox obrigado...           0   \n",
       "176  ahhhhhhh deveria ter esperado pra comprar esse...           0   \n",
       "177  hora de melhorar o windows 10! chegaram os nov...           0   \n",
       "178  vaio® fit 15s 8ª geração core ! ´ i5 windows 1...           0   \n",
       "179  @lierson baixa o o&amp;o shutup10, vai em \"too...           0   \n",
       "180  @joaopsantos16 eu já considerei o windows 10 u...           1   \n",
       "181  atualizei meu windows 10 e meu notebook ficou ...           1   \n",
       "182  tava precisando de um pendrive bootavel do win...           0   \n",
       "183  utilidade pública: pra quem utiliza windows 10...           1   \n",
       "184  rt @tchelomaia: atualização do windows 10 está...           1   \n",
       "185  @nwtsz pior que esse notebook é bom e tem uma ...           1   \n",
       "186  recurso tão esperado começa a ser testado em v...           0   \n",
       "187         @obrunnn versão de celular e windows 10 :p           0   \n",
       "188  última atualização do windows 10 ferrou meu of...           1   \n",
       "189  rt @adrenaline: atualização do windows 10 esta...           1   \n",
       "190  @lwithp esse aqui deve ter atender exatamente ...           0   \n",
       "191  pipipo popopo windows 10 é ruim, prefiro o 7\\n...           0   \n",
       "192  maluco, estava um tempo sem mexer no notebook ...           1   \n",
       "193  dica: ative a proteção contra ransomware no wi...           0   \n",
       "194  @bertoncini_ meo kkkk eu nem sabia que windows...           1   \n",
       "195  como usar os powertoys do windows 10\\n\\nhttps:...           0   \n",
       "196  vai ficar 10 anos atualizando o windows do meu pc           1   \n",
       "197  lumia 950 recebe windows 10 para arm com vária...           1   \n",
       "198  https://t.co/ppt1htu4h6 lumia 950 recebe windo...           0   \n",
       "199  instalando windows 10 pirata em todas as máqui...           1   \n",
       "\n",
       "     Classificador  \n",
       "0              1.0  \n",
       "1              1.0  \n",
       "2              0.0  \n",
       "3              1.0  \n",
       "4              1.0  \n",
       "5              1.0  \n",
       "6              0.0  \n",
       "7              1.0  \n",
       "8              0.0  \n",
       "9              1.0  \n",
       "10             1.0  \n",
       "11             0.0  \n",
       "12             1.0  \n",
       "13             0.0  \n",
       "14             1.0  \n",
       "15             1.0  \n",
       "16             1.0  \n",
       "17             1.0  \n",
       "18             1.0  \n",
       "19             1.0  \n",
       "20             1.0  \n",
       "21             1.0  \n",
       "22             1.0  \n",
       "23             1.0  \n",
       "24             0.0  \n",
       "25             1.0  \n",
       "26             1.0  \n",
       "27             1.0  \n",
       "28             1.0  \n",
       "29             1.0  \n",
       "..             ...  \n",
       "170            0.0  \n",
       "171            1.0  \n",
       "172            1.0  \n",
       "173            0.0  \n",
       "174            1.0  \n",
       "175            1.0  \n",
       "176            1.0  \n",
       "177            1.0  \n",
       "178            0.0  \n",
       "179            1.0  \n",
       "180            1.0  \n",
       "181            1.0  \n",
       "182            1.0  \n",
       "183            1.0  \n",
       "184            1.0  \n",
       "185            1.0  \n",
       "186            1.0  \n",
       "187            1.0  \n",
       "188            1.0  \n",
       "189            1.0  \n",
       "190            0.0  \n",
       "191            1.0  \n",
       "192            1.0  \n",
       "193            0.0  \n",
       "194            1.0  \n",
       "195            1.0  \n",
       "196            1.0  \n",
       "197            1.0  \n",
       "198            1.0  \n",
       "199            1.0  \n",
       "\n",
       "[200 rows x 3 columns]"
      ]
     },
     "execution_count": 16,
     "metadata": {},
     "output_type": "execute_result"
    }
   ],
   "source": [
    "dados_teste"
   ]
  },
  {
   "cell_type": "code",
   "execution_count": 17,
   "metadata": {},
   "outputs": [
    {
     "name": "stdout",
     "output_type": "stream",
     "text": [
      "Acertos poitivos: 0.9901960784313726\n",
      "Acertos negativos: 0.2755102040816326\n",
      "Falso positivos: 0.7244897959183674\n",
      "Falso negativos: 0.009803921568627416\n"
     ]
    },
    {
     "name": "stderr",
     "output_type": "stream",
     "text": [
      "C:\\Users\\lfcsa\\Anaconda3\\lib\\site-packages\\ipykernel_launcher.py:10: FutureWarning: get_value is deprecated and will be removed in a future release. Please use .at[] or .iat[] accessors instead\n",
      "  # Remove the CWD from sys.path while we load stuff.\n",
      "C:\\Users\\lfcsa\\Anaconda3\\lib\\site-packages\\ipykernel_launcher.py:11: FutureWarning: get_value is deprecated and will be removed in a future release. Please use .at[] or .iat[] accessors instead\n",
      "  # This is added back by InteractiveShellApp.init_path()\n"
     ]
    }
   ],
   "source": [
    "verdadeiro_positivos = 0\n",
    "\n",
    "vardadeiro_negativos = 0\n",
    "\n",
    "falso_positivo = 0\n",
    "\n",
    "falso_negativo = 0\n",
    "\n",
    "for i in range(0,200):\n",
    "    r = dados_teste.get_value(i,'Relevancia')\n",
    "    c = dados_teste.get_value(i,'Classificador')\n",
    "    if r == c:\n",
    "        if r == 1:\n",
    "            verdadeiro_positivos += 1\n",
    "        if r == 0:\n",
    "            vardadeiro_negativos += 1\n",
    "\n",
    "            \n",
    "vrd_positivo = verdadeiro_positivos/len(dados_teste.loc[(dados_teste.Relevancia == 1)])\n",
    "\n",
    "vrd_negativo = vardadeiro_negativos/len(dados_teste.loc[(dados_teste.Relevancia == 0)])\n",
    "\n",
    "falso_positivo = 1 - vrd_negativo\n",
    "\n",
    "falso_negativo = 1 - vrd_positivo\n",
    "\n",
    "print(\"Acertos poitivos: {0}\".format(vrd_positivo))\n",
    "print(\"Acertos negativos: {0}\".format(vrd_negativo))\n",
    "print(\"Falso positivos: {0}\".format(falso_positivo))\n",
    "print(\"Falso negativos: {0}\".format(falso_negativo))\n"
   ]
  },
  {
   "cell_type": "code",
   "execution_count": 18,
   "metadata": {},
   "outputs": [],
   "source": [
    "tabela = {\"Tipo de porcentagem\": ['Verdadeiros positivos', \"Falsos positivos\", \"Verdadeiros negativos\", \"Falsos negativos\" ],\n",
    "          \"Porcentagem\": [0.9901960784313726, 0.7244897959183674, 0.2755102040816326, 0.009803921568627416]    \n",
    "}\n",
    "\n",
    "porcentagens = pd.DataFrame(tabela)"
   ]
  },
  {
   "cell_type": "markdown",
   "metadata": {},
   "source": [
    "___\n",
    "### Concluindo"
   ]
  },
  {
   "cell_type": "code",
   "execution_count": 19,
   "metadata": {},
   "outputs": [
    {
     "data": {
      "text/html": [
       "<div>\n",
       "<style scoped>\n",
       "    .dataframe tbody tr th:only-of-type {\n",
       "        vertical-align: middle;\n",
       "    }\n",
       "\n",
       "    .dataframe tbody tr th {\n",
       "        vertical-align: top;\n",
       "    }\n",
       "\n",
       "    .dataframe thead th {\n",
       "        text-align: right;\n",
       "    }\n",
       "</style>\n",
       "<table border=\"1\" class=\"dataframe\">\n",
       "  <thead>\n",
       "    <tr style=\"text-align: right;\">\n",
       "      <th></th>\n",
       "      <th>Tipo de porcentagem</th>\n",
       "      <th>Porcentagem</th>\n",
       "    </tr>\n",
       "  </thead>\n",
       "  <tbody>\n",
       "    <tr>\n",
       "      <th>0</th>\n",
       "      <td>Verdadeiros positivos</td>\n",
       "      <td>0.990196</td>\n",
       "    </tr>\n",
       "    <tr>\n",
       "      <th>1</th>\n",
       "      <td>Falsos positivos</td>\n",
       "      <td>0.724490</td>\n",
       "    </tr>\n",
       "    <tr>\n",
       "      <th>2</th>\n",
       "      <td>Verdadeiros negativos</td>\n",
       "      <td>0.275510</td>\n",
       "    </tr>\n",
       "    <tr>\n",
       "      <th>3</th>\n",
       "      <td>Falsos negativos</td>\n",
       "      <td>0.009804</td>\n",
       "    </tr>\n",
       "  </tbody>\n",
       "</table>\n",
       "</div>"
      ],
      "text/plain": [
       "     Tipo de porcentagem  Porcentagem\n",
       "0  Verdadeiros positivos     0.990196\n",
       "1       Falsos positivos     0.724490\n",
       "2  Verdadeiros negativos     0.275510\n",
       "3       Falsos negativos     0.009804"
      ]
     },
     "execution_count": 19,
     "metadata": {},
     "output_type": "execute_result"
    }
   ],
   "source": [
    "porcentagens"
   ]
  },
  {
   "cell_type": "markdown",
   "metadata": {},
   "source": [
    "Como visto na tabela acima, o classificador tende a atribuir relevância aos tweets. Isso é evidente pois a porcentagem de mensagens relevantes que foram classificadas como relevante foi de 99%. Alem disso, so 27,5% das mensagens irrelevantes foram classificadas como irrelevante. Um aspecto que pode estar conduzindo a este resultado é o fato do classificador não conseguir identificar sarcasmo e dupla negação, portanto ele identifica essas palavras como relevantes. Isso acontece pois o nosso machine learning se baseia nas probabilidades de cada palavra, de acordo com seu dicionário. Mesmo que o classificador nao funcionou perfeitamente, acreditamos que o projeto ainda deve ser expandido e melhorado. Isso pode ser feito atraves de tecnicas mais avancadas, como remover palavras que não ajudam na classificação, como \"a, e, etc...\". Outra técnica que pode ser implementada e o Tf-idf, que é uma medida estatística que indica a importância de uma palavra, levando em consideração um corpus linguístico. Concluindo, o classificador Naive-Bayes e muito útil e pode ser utilizado para muitas outras coisas. Por exemplo, um classificador muito avançado pode ser utilizado para ver tendências em ataques terroristas.      "
   ]
  },
  {
   "cell_type": "markdown",
   "metadata": {},
   "source": [
    "## Aperfeiçoamento:\n",
    "\n",
    "Os trabalhos vão evoluir em conceito dependendo da quantidade de itens avançados:\n",
    "\n",
    "* Limpar: \\n, :, \", ', (, ), etc SEM remover emojis\n",
    "* Corrigir separação de espaços entre palavras e emojis ou emojis e emojis\n",
    "* Propor outras limpezas e transformações que não afetem a qualidade da informação ou classificação\n",
    "* Criar categorias intermediárias de relevância baseadas na probabilidade: ex.: muito relevante, relevante, neutro, irrelevante, muito irrelevante (3 categorias: C, mais categorias conta para B)\n",
    "* Explicar por que não posso usar o próprio classificador para gerar mais amostras de treinamento\n",
    "* Propor diferentes cenários para Naïve Bayes fora do contexto do projeto\n",
    "* Sugerir e explicar melhorias reais com indicações concretas de como implementar (indicar como fazer e indicar material de pesquisa)\n",
    "* Montar um dashboard que periodicamente realiza análise de sentimento e visualiza estes dados"
   ]
  },
  {
   "cell_type": "markdown",
   "metadata": {},
   "source": [
    "# Referências"
   ]
  },
  {
   "cell_type": "markdown",
   "metadata": {},
   "source": [
    "[Naive Bayes and Text Classification](https://arxiv.org/pdf/1410.5329.pdf)  **Mais completo**\n",
    "\n",
    "[A practical explanation of a Naive Bayes Classifier](https://monkeylearn.com/blog/practical-explanation-naive-bayes-classifier/) **Mais simples**\n"
   ]
  }
 ],
 "metadata": {
  "kernelspec": {
   "display_name": "Python 3",
   "language": "python",
   "name": "python3"
  },
  "language_info": {
   "codemirror_mode": {
    "name": "ipython",
    "version": 3
   },
   "file_extension": ".py",
   "mimetype": "text/x-python",
   "name": "python",
   "nbconvert_exporter": "python",
   "pygments_lexer": "ipython3",
   "version": "3.7.1"
  }
 },
 "nbformat": 4,
 "nbformat_minor": 4
}
